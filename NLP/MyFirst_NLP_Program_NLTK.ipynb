{
 "cells": [
  {
   "cell_type": "code",
   "execution_count": 1,
   "metadata": {},
   "outputs": [
    {
     "name": "stdout",
     "output_type": "stream",
     "text": [
      "Requirement already satisfied: nltk in c:\\programdata\\anaconda3\\lib\\site-packages (3.5)\n",
      "Requirement already satisfied: tqdm in c:\\programdata\\anaconda3\\lib\\site-packages (from nltk) (4.47.0)\n",
      "Requirement already satisfied: regex in c:\\programdata\\anaconda3\\lib\\site-packages (from nltk) (2020.6.8)\n",
      "Requirement already satisfied: joblib in c:\\programdata\\anaconda3\\lib\\site-packages (from nltk) (0.16.0)\n",
      "Requirement already satisfied: click in c:\\programdata\\anaconda3\\lib\\site-packages (from nltk) (7.1.2)\n",
      "Note: you may need to restart the kernel to use updated packages.\n"
     ]
    }
   ],
   "source": [
    "pip install nltk"
   ]
  },
  {
   "cell_type": "code",
   "execution_count": 2,
   "metadata": {},
   "outputs": [],
   "source": [
    "import nltk"
   ]
  },
  {
   "cell_type": "code",
   "execution_count": 4,
   "metadata": {},
   "outputs": [
    {
     "name": "stderr",
     "output_type": "stream",
     "text": [
      "[nltk_data] Downloading package punkt to\n",
      "[nltk_data]     C:\\Users\\kumar\\AppData\\Roaming\\nltk_data...\n",
      "[nltk_data]   Unzipping tokenizers\\punkt.zip.\n"
     ]
    },
    {
     "data": {
      "text/plain": [
       "True"
      ]
     },
     "execution_count": 4,
     "metadata": {},
     "output_type": "execute_result"
    }
   ],
   "source": [
    "#Download the data file for NLTK\n",
    "nltk.download('punkt')"
   ]
  },
  {
   "cell_type": "code",
   "execution_count": 6,
   "metadata": {},
   "outputs": [],
   "source": [
    "#Tokenization\n",
    "data = ' Hello world ! this is my first NLP program'"
   ]
  },
  {
   "cell_type": "code",
   "execution_count": 7,
   "metadata": {},
   "outputs": [
    {
     "data": {
      "text/plain": [
       "['Hello', 'world', '!', 'this', 'is', 'my', 'first', 'NLP', 'program']"
      ]
     },
     "execution_count": 7,
     "metadata": {},
     "output_type": "execute_result"
    }
   ],
   "source": [
    "nltk.word_tokenize(data)"
   ]
  },
  {
   "cell_type": "code",
   "execution_count": 8,
   "metadata": {},
   "outputs": [],
   "source": [
    "data = 'That is very great. How long are you planning to do this?'"
   ]
  },
  {
   "cell_type": "code",
   "execution_count": 10,
   "metadata": {},
   "outputs": [
    {
     "data": {
      "text/plain": [
       "['That is very great.', 'How long are you planning to do this?']"
      ]
     },
     "execution_count": 10,
     "metadata": {},
     "output_type": "execute_result"
    }
   ],
   "source": [
    "nltk.sent_tokenize(data)"
   ]
  },
  {
   "cell_type": "code",
   "execution_count": 15,
   "metadata": {},
   "outputs": [
    {
     "data": {
      "text/plain": [
       "[('i', 'NN'), ('am', 'VBP'), ('eating', 'VBG')]"
      ]
     },
     "execution_count": 15,
     "metadata": {},
     "output_type": "execute_result"
    }
   ],
   "source": [
    "#POS ( Part of Speech)\n",
    "data = 'i am eating'\n",
    "\n",
    "#Convert sentense into words\n",
    "tokenize = nltk.word_tokenize(data)\n",
    "\n",
    "#nltk.download('averaged_perceptron_tagger')\n",
    "nltk.pos_tag(tokenize)"
   ]
  },
  {
   "cell_type": "code",
   "execution_count": 17,
   "metadata": {},
   "outputs": [
    {
     "data": {
      "text/plain": [
       "[('we', 'PRP'),\n",
       " ('will', 'MD'),\n",
       " ('see', 'VB'),\n",
       " ('an', 'DT'),\n",
       " ('example', 'NN'),\n",
       " ('of', 'IN'),\n",
       " ('pos', 'NN'),\n",
       " ('tagging', 'NN')]"
      ]
     },
     "execution_count": 17,
     "metadata": {},
     "output_type": "execute_result"
    }
   ],
   "source": [
    "data = ' we will see an example of pos tagging'\n",
    "\n",
    "#1. work tokenizer\n",
    "a = nltk.word_tokenize(data)\n",
    "\n",
    "#2. pos tagging\n",
    "nltk.pos_tag(a)"
   ]
  },
  {
   "cell_type": "code",
   "execution_count": 22,
   "metadata": {},
   "outputs": [
    {
     "name": "stdout",
     "output_type": "stream",
     "text": [
      "[('we', 'PRP'), ('will', 'MD'), ('see', 'VB'), ('an', 'DT'), ('example', 'NN'), ('of', 'IN'), ('pos', 'NN'), ('tagging', 'NN')]\n",
      "(S\n",
      "  we/PRP\n",
      "  will/MD\n",
      "  (my_personalised_pos see/VB an/DT)\n",
      "  example/NN\n",
      "  of/IN\n",
      "  pos/NN\n",
      "  tagging/NN)\n"
     ]
    }
   ],
   "source": [
    "#Chunking:\n",
    "data = ' we will see an example of pos tagging'\n",
    "\n",
    "#word token\n",
    "pos = nltk.pos_tag(nltk.word_tokenize(data))\n",
    "print(pos)\n",
    "\n",
    "my_own_dic = 'my_personalised_pos : {<VB>*<DT>}'\n",
    "\n",
    "chunk = nltk.RegexpParser(my_own_dic)\n",
    "result = chunk.parse(pos)\n",
    "print(result)\n",
    "result.draw()"
   ]
  },
  {
   "cell_type": "code",
   "execution_count": 25,
   "metadata": {},
   "outputs": [],
   "source": [
    "sent = \"I was going to the office on my bike when i saw a car passing by hit the tree.\"\n",
    "data = \"India (Hindi: Bhārat), officially the Republic of India, is a country in South Asia. It is the seventh-largest country by area, the second-most populous country, and the most populous democracy in the world. Bounded by the Indian Ocean on the south, the Arabian Sea on the southwest, and the Bay of Bengal on the southeast, it shares land borders with Pakistan to the west; China, Nepal, and Bhutan to the north; and Bangladesh and Myanmar to the east. In the Indian Ocean, India is in the vicinity of Sri Lanka and the Maldives; its Andaman and Nicobar Islands share a maritime border with Thailand and Indonesia.\"\n",
    "sent = \"India, officially the Republic of India, is a country in South Asia.\"\n",
    "ex = 'European authorities fined Google a record $5.1 billion on Wednesday for abusing its power in the mobile phone market and ordered the company to alter its practices'"
   ]
  },
  {
   "cell_type": "code",
   "execution_count": 26,
   "metadata": {},
   "outputs": [
    {
     "name": "stderr",
     "output_type": "stream",
     "text": [
      "[nltk_data] Downloading package stopwords to\n",
      "[nltk_data]     C:\\Users\\kumar\\AppData\\Roaming\\nltk_data...\n",
      "[nltk_data]   Unzipping corpora\\stopwords.zip.\n"
     ]
    },
    {
     "data": {
      "text/plain": [
       "True"
      ]
     },
     "execution_count": 26,
     "metadata": {},
     "output_type": "execute_result"
    }
   ],
   "source": [
    "nltk.download('stopwords')"
   ]
  },
  {
   "cell_type": "code",
   "execution_count": 27,
   "metadata": {},
   "outputs": [
    {
     "name": "stdout",
     "output_type": "stream",
     "text": [
      "['i', 'me', 'my', 'myself', 'we', 'our', 'ours', 'ourselves', 'you', \"you're\", \"you've\", \"you'll\", \"you'd\", 'your', 'yours', 'yourself', 'yourselves', 'he', 'him', 'his', 'himself', 'she', \"she's\", 'her', 'hers', 'herself', 'it', \"it's\", 'its', 'itself', 'they', 'them', 'their', 'theirs', 'themselves', 'what', 'which', 'who', 'whom', 'this', 'that', \"that'll\", 'these', 'those', 'am', 'is', 'are', 'was', 'were', 'be', 'been', 'being', 'have', 'has', 'had', 'having', 'do', 'does', 'did', 'doing', 'a', 'an', 'the', 'and', 'but', 'if', 'or', 'because', 'as', 'until', 'while', 'of', 'at', 'by', 'for', 'with', 'about', 'against', 'between', 'into', 'through', 'during', 'before', 'after', 'above', 'below', 'to', 'from', 'up', 'down', 'in', 'out', 'on', 'off', 'over', 'under', 'again', 'further', 'then', 'once', 'here', 'there', 'when', 'where', 'why', 'how', 'all', 'any', 'both', 'each', 'few', 'more', 'most', 'other', 'some', 'such', 'no', 'nor', 'not', 'only', 'own', 'same', 'so', 'than', 'too', 'very', 's', 't', 'can', 'will', 'just', 'don', \"don't\", 'should', \"should've\", 'now', 'd', 'll', 'm', 'o', 're', 've', 'y', 'ain', 'aren', \"aren't\", 'couldn', \"couldn't\", 'didn', \"didn't\", 'doesn', \"doesn't\", 'hadn', \"hadn't\", 'hasn', \"hasn't\", 'haven', \"haven't\", 'isn', \"isn't\", 'ma', 'mightn', \"mightn't\", 'mustn', \"mustn't\", 'needn', \"needn't\", 'shan', \"shan't\", 'shouldn', \"shouldn't\", 'wasn', \"wasn't\", 'weren', \"weren't\", 'won', \"won't\", 'wouldn', \"wouldn't\"]\n"
     ]
    }
   ],
   "source": [
    "from nltk.corpus import stopwords\n",
    "a = stopwords.words('english')\n",
    "print(a)"
   ]
  },
  {
   "cell_type": "code",
   "execution_count": 46,
   "metadata": {},
   "outputs": [
    {
     "data": {
      "text/plain": [
       "'!\"#$%&\\'()*+,-./:;<=>?@[\\\\]^_`{|}~'"
      ]
     },
     "execution_count": 46,
     "metadata": {},
     "output_type": "execute_result"
    }
   ],
   "source": [
    "import string\n",
    "a = string.punctuation\n",
    "a"
   ]
  },
  {
   "cell_type": "code",
   "execution_count": 47,
   "metadata": {},
   "outputs": [
    {
     "name": "stdout",
     "output_type": "stream",
     "text": [
      "['going', 'office', 'bike', 'saw', 'car', 'passing', 'hit', 'tree']\n"
     ]
    }
   ],
   "source": [
    "sent = \"I was going to the office on my bike when i saw a car passing by hit the tree.\"\n",
    "#word tokenize\n",
    "clean = []\n",
    "for word in nltk.word_tokenize(sent.lower()):\n",
    "    if word not in stopwords.words('english') and word not in string.punctuation:\n",
    "        clean.append(word)\n",
    "        \n",
    "print(clean)"
   ]
  },
  {
   "cell_type": "code",
   "execution_count": 44,
   "metadata": {},
   "outputs": [
    {
     "name": "stdout",
     "output_type": "stream",
     "text": [
      "['going', 'office', 'bike', 'saw', 'car', 'passing', 'hit', 'tree', '.']\n"
     ]
    }
   ],
   "source": [
    "print([i for i in nltk.word_tokenize(sent.lower()) if i not in stopwords.words('english')])"
   ]
  },
  {
   "cell_type": "code",
   "execution_count": 53,
   "metadata": {},
   "outputs": [
    {
     "name": "stdout",
     "output_type": "stream",
     "text": [
      "['india', 'hindi', 'bhārat', 'officially', 'republic', 'india', 'country', 'south', 'asia', 'seventh-largest', 'country', 'area', 'second-most', 'populous', 'country', 'populous', 'democracy', 'world', 'bounded', 'indian', 'ocean', 'south', 'arabian', 'sea', 'southwest', 'bay', 'bengal', 'southeast', 'shares', 'land', 'borders', 'pakistan', 'west', 'china', 'nepal', 'bhutan', 'north', 'bangladesh', 'myanmar', 'east', 'indian', 'ocean', 'india', 'vicinity', 'sri', 'lanka', 'maldives', 'andaman', 'nicobar', 'islands', 'share', 'maritime', 'border', 'thailand', 'indonesia']\n"
     ]
    }
   ],
   "source": [
    "data = \"India (Hindi: Bhārat), officially the Republic of India, is a country in South Asia. It is the seventh-largest country by area, the second-most populous country, and the most populous democracy in the world. Bounded by the Indian Ocean on the south, the Arabian Sea on the southwest, and the Bay of Bengal on the southeast, it shares land borders with Pakistan to the west; China, Nepal, and Bhutan to the north; and Bangladesh and Myanmar to the east. In the Indian Ocean, India is in the vicinity of Sri Lanka and the Maldives; its Andaman and Nicobar Islands share a maritime border with Thailand and Indonesia.\"\n",
    "\n",
    "clean = [i for i in nltk.word_tokenize(data.lower()) if i not in stopwords.words('english') and i not in string.punctuation]\n",
    "print(clean)"
   ]
  },
  {
   "cell_type": "code",
   "execution_count": 54,
   "metadata": {},
   "outputs": [
    {
     "name": "stdout",
     "output_type": "stream",
     "text": [
      "[('india', 'NN'), ('hindi', 'NN'), ('bhārat', 'NN'), ('officially', 'RB'), ('republic', 'JJ'), ('india', 'JJ'), ('country', 'NN'), ('south', 'JJ'), ('asia', 'JJ'), ('seventh-largest', 'JJ'), ('country', 'NN'), ('area', 'NN'), ('second-most', 'RB'), ('populous', 'JJ'), ('country', 'NN'), ('populous', 'JJ'), ('democracy', 'NN'), ('world', 'NN'), ('bounded', 'VBD'), ('indian', 'JJ'), ('ocean', 'NN'), ('south', 'NN'), ('arabian', 'JJ'), ('sea', 'NN'), ('southwest', 'JJS'), ('bay', 'NN'), ('bengal', 'NN'), ('southeast', 'NN'), ('shares', 'NNS'), ('land', 'VBP'), ('borders', 'NNS'), ('pakistan', 'VBP'), ('west', 'JJS'), ('china', 'NN'), ('nepal', 'JJ'), ('bhutan', 'JJ'), ('north', 'NN'), ('bangladesh', 'JJ'), ('myanmar', 'NN'), ('east', 'JJ'), ('indian', 'JJ'), ('ocean', 'NN'), ('india', 'VBP'), ('vicinity', 'NN'), ('sri', 'NN'), ('lanka', 'NN'), ('maldives', 'VBZ'), ('andaman', 'JJ'), ('nicobar', 'NN'), ('islands', 'NNS'), ('share', 'NN'), ('maritime', 'JJ'), ('border', 'NN'), ('thailand', 'NN'), ('indonesia', 'NN')]\n"
     ]
    }
   ],
   "source": [
    "pos = nltk.pos_tag(clean)\n",
    "print(pos)"
   ]
  },
  {
   "cell_type": "code",
   "execution_count": 56,
   "metadata": {},
   "outputs": [],
   "source": [
    "#Stemming\n",
    "#1. porter\n",
    "#2. lancaster\n",
    "#3. snowball"
   ]
  },
  {
   "cell_type": "code",
   "execution_count": 64,
   "metadata": {},
   "outputs": [
    {
     "name": "stdout",
     "output_type": "stream",
     "text": [
      "----porter----\n",
      "hobbi\n",
      "hobbi\n",
      "comput\n",
      "comput\n",
      "histori\n",
      "histor\n",
      "go\n",
      "goe\n",
      "gone\n",
      "----lancaster----\n",
      "hobby\n",
      "hobby\n",
      "comput\n",
      "comput\n",
      "hist\n",
      "hist\n",
      "go\n",
      "goe\n",
      "gon\n",
      "----snowball----\n",
      "hobbi\n",
      "hobbi\n",
      "comput\n",
      "comput\n",
      "histori\n",
      "histor\n",
      "go\n",
      "goe\n",
      "gone\n"
     ]
    }
   ],
   "source": [
    "from nltk.stem import PorterStemmer, LancasterStemmer, SnowballStemmer\n",
    "\n",
    "lancaster = LancasterStemmer()\n",
    "porter = PorterStemmer()\n",
    "snowball = SnowballStemmer('english')\n",
    "\n",
    "print('----porter----')\n",
    "print(porter.stem('hobbies'))\n",
    "print(porter.stem('hobby'))\n",
    "print(porter.stem('computer'))\n",
    "print(porter.stem('computation'))\n",
    "print(porter.stem('history'))\n",
    "print(porter.stem('historical'))\n",
    "print(porter.stem('go'))\n",
    "print(porter.stem('goes'))\n",
    "print(porter.stem('gone'))\n",
    "\n",
    "print('----lancaster----')\n",
    "print(lancaster.stem('hobbies'))\n",
    "print(lancaster.stem('hobby'))\n",
    "print(lancaster.stem('computer'))\n",
    "print(lancaster.stem('computation'))\n",
    "print(lancaster.stem('history'))\n",
    "print(lancaster.stem('historical'))\n",
    "print(lancaster.stem('go'))print(lancaster.stem('goes'))\n",
    "print(lancaster.stem('gone'))\n",
    "\n",
    "print('----snowball----')\n",
    "print(snowball.stem('hobbies'))\n",
    "print(snowball.stem('hobby'))\n",
    "print(snowball.stem('computer'))\n",
    "print(snowball.stem('computation'))\n",
    "print(snowball.stem('history'))\n",
    "print(snowball.stem('historical'))\n",
    "print(snowball.stem('go'))\n",
    "print(snowball.stem('goes'))\n",
    "print(snowball.stem('gone'))"
   ]
  },
  {
   "cell_type": "code",
   "execution_count": 70,
   "metadata": {},
   "outputs": [
    {
     "name": "stdout",
     "output_type": "stream",
     "text": [
      "<nltk.stem.snowball.SnowballStemmer object at 0x0000029ED5AE1700>\n",
      "i was go to the offic on my bike when i saw a car pass by hit the tree .\n",
      "<LancasterStemmer>\n",
      "i was going to the off on my bik when i saw a car pass by hit the tre .\n",
      "<PorterStemmer>\n",
      "I wa go to the offic on my bike when i saw a car pass by hit the tree .\n"
     ]
    }
   ],
   "source": [
    "sent = \"I was going to the office on my bike when i saw a car passing by hit the tree.\"\n",
    "token = nltk.word_tokenize(sent)\n",
    "for stemmer in (snowball, lancaster, porter):\n",
    "    print(stemmer)\n",
    "    stem = [stemmer.stem(t) for t in token]\n",
    "    print(' '.join(stem))"
   ]
  },
  {
   "cell_type": "code",
   "execution_count": 74,
   "metadata": {},
   "outputs": [
    {
     "name": "stdout",
     "output_type": "stream",
     "text": [
      "running\n",
      "run\n",
      "ran\n"
     ]
    }
   ],
   "source": [
    "#Lemmatization\n",
    "#nltk.download('wordnet')\n",
    "from nltk.stem import WordNetLemmatizer\n",
    "\n",
    "lemma = WordNetLemmatizer()\n",
    "\n",
    "print(lemma.lemmatize('running'))\n",
    "print(lemma.lemmatize('runs'))\n",
    "print(lemma.lemmatize('ran'))"
   ]
  },
  {
   "cell_type": "code",
   "execution_count": 77,
   "metadata": {},
   "outputs": [
    {
     "name": "stdout",
     "output_type": "stream",
     "text": [
      "run\n",
      "run\n",
      "run\n"
     ]
    }
   ],
   "source": [
    "print(lemma.lemmatize('running', pos = 'v'))\n",
    "print(lemma.lemmatize('runs', pos = 'v'))\n",
    "print(lemma.lemmatize('ran', pos = 'v'))"
   ]
  },
  {
   "cell_type": "code",
   "execution_count": 79,
   "metadata": {},
   "outputs": [],
   "source": [
    "# NER\n",
    "text = 'India, officially the republic of India, is a country in South Asia'"
   ]
  },
  {
   "cell_type": "code",
   "execution_count": 87,
   "metadata": {},
   "outputs": [
    {
     "name": "stderr",
     "output_type": "stream",
     "text": [
      "[nltk_data] Downloading package maxent_ne_chunker to\n",
      "[nltk_data]     C:\\Users\\kumar\\AppData\\Roaming\\nltk_data...\n",
      "[nltk_data]   Unzipping chunkers\\maxent_ne_chunker.zip.\n"
     ]
    },
    {
     "data": {
      "text/plain": [
       "True"
      ]
     },
     "execution_count": 87,
     "metadata": {},
     "output_type": "execute_result"
    }
   ],
   "source": [
    "# nltk.download('maxent_ne_chunker')\n",
    "# nltk.download('words')"
   ]
  },
  {
   "cell_type": "code",
   "execution_count": 90,
   "metadata": {},
   "outputs": [
    {
     "name": "stdout",
     "output_type": "stream",
     "text": [
      "(S\n",
      "  (GPE India/NNP)\n",
      "  ,/,\n",
      "  officially/RB\n",
      "  the/DT\n",
      "  republic/NN\n",
      "  of/IN\n",
      "  (GPE India/NNP)\n",
      "  ,/,\n",
      "  is/VBZ\n",
      "  a/DT\n",
      "  country/NN\n",
      "  in/IN\n",
      "  (GPE South/NNP Asia/NNP))\n"
     ]
    }
   ],
   "source": [
    "words = nltk.word_tokenize(text)\n",
    "pos_tag = nltk.pos_tag(words)\n",
    "name_entity = nltk.ne_chunk(pos_tag)\n",
    "print(name_entity)"
   ]
  },
  {
   "cell_type": "code",
   "execution_count": 93,
   "metadata": {},
   "outputs": [],
   "source": [
    "# Preprocessing\n",
    "text = 'Data is the new revoluation in the world 100, in a day one individual generates terabytes of data'"
   ]
  },
  {
   "cell_type": "code",
   "execution_count": 94,
   "metadata": {},
   "outputs": [
    {
     "data": {
      "text/plain": [
       "'data is the new revoluation in the world 100, in a day one individual generates terabytes of data'"
      ]
     },
     "execution_count": 94,
     "metadata": {},
     "output_type": "execute_result"
    }
   ],
   "source": [
    "#lowercase\n",
    "text.lower()"
   ]
  },
  {
   "cell_type": "code",
   "execution_count": 103,
   "metadata": {},
   "outputs": [
    {
     "data": {
      "text/plain": [
       "'Data is the new revoluation in the world , in a day one individual generates terabytes of data'"
      ]
     },
     "execution_count": 103,
     "metadata": {},
     "output_type": "execute_result"
    }
   ],
   "source": [
    "# remove the numbers from the text\n",
    "import re\n",
    "a = re.sub('[0-9]+','',text)\n",
    "a"
   ]
  },
  {
   "cell_type": "code",
   "execution_count": 105,
   "metadata": {},
   "outputs": [
    {
     "name": "stdout",
     "output_type": "stream",
     "text": [
      "Collecting inflect\n",
      "  Downloading inflect-5.0.2-py3-none-any.whl (31 kB)\n",
      "Installing collected packages: inflect\n",
      "Successfully installed inflect-5.0.2\n"
     ]
    }
   ],
   "source": [
    "# 1--> one\n",
    "#100 --> one hundred\n",
    "#!pip install inflect"
   ]
  },
  {
   "cell_type": "code",
   "execution_count": 115,
   "metadata": {},
   "outputs": [
    {
     "data": {
      "text/plain": [
       "'Data is the new revoluation in the world one hundred , in a day one individual generates terabytes of data'"
      ]
     },
     "execution_count": 115,
     "metadata": {},
     "output_type": "execute_result"
    }
   ],
   "source": [
    "import inflect\n",
    "import re\n",
    "\n",
    "text = 'Data is the new revoluation in the world 100 , in a day one individual generates terabytes of data'\n",
    "\n",
    "num_to_words = inflect.engine()\n",
    "word_list = text.split()\n",
    "new_str = []\n",
    "\n",
    "word = num_to_words.number_to_words('300')\n",
    "word\n",
    "\n",
    "\n",
    "for word in word_list:\n",
    "    if re.match('[0-9]', word): #or use word.isdigit()\n",
    "        new_str.append(num_to_words.number_to_words(word))\n",
    "    else:\n",
    "        new_str.append(word)\n",
    "' '.join(new_str)"
   ]
  },
  {
   "cell_type": "code",
   "execution_count": 116,
   "metadata": {},
   "outputs": [
    {
     "name": "stdout",
     "output_type": "stream",
     "text": [
      "Data is the new revoluation in the world 100  in a day one individual generates terabytes of data\n"
     ]
    }
   ],
   "source": [
    "# Remove Punctuation\n",
    "import string\n",
    "print(text.translate(str.maketrans('','',string.punctuation)))"
   ]
  },
  {
   "cell_type": "code",
   "execution_count": 126,
   "metadata": {},
   "outputs": [
    {
     "data": {
      "text/plain": [
       "'Data new revoluation world 100 , day one individual generates terabytes data'"
      ]
     },
     "execution_count": 126,
     "metadata": {},
     "output_type": "execute_result"
    }
   ],
   "source": [
    "# Remove Stopword\n",
    "#list comprehension\n",
    "from nltk.tokenize import word_tokenize\n",
    "from nltk.corpus import stopwords\n",
    "' '.join([word for word in nltk.word_tokenize(text) if word not in stopwords.words('english')])"
   ]
  },
  {
   "cell_type": "code",
   "execution_count": 130,
   "metadata": {},
   "outputs": [
    {
     "data": {
      "text/plain": [
       "'data new revolu world 100 , day one individu gener terabyt data'"
      ]
     },
     "execution_count": 130,
     "metadata": {},
     "output_type": "execute_result"
    }
   ],
   "source": [
    "# Steming\n",
    "from nltk.stem.porter import PorterStemmer\n",
    "porter = PorterStemmer()\n",
    "' '.join(porter.stem(word) for word in nltk.word_tokenize(text) if word not in stopwords.words('english'))"
   ]
  },
  {
   "cell_type": "code",
   "execution_count": 131,
   "metadata": {},
   "outputs": [
    {
     "data": {
      "text/plain": [
       "'Data new revoluation world 100 , day one individual generates terabyte data'"
      ]
     },
     "execution_count": 131,
     "metadata": {},
     "output_type": "execute_result"
    }
   ],
   "source": [
    "from nltk.stem import WordNetLemmatizer\n",
    "lemma = WordNetLemmatizer()\n",
    "' '.join(lemma.lemmatize(word) for word in nltk.word_tokenize(text) if word not in stopwords.words('english'))"
   ]
  },
  {
   "cell_type": "code",
   "execution_count": 134,
   "metadata": {},
   "outputs": [
    {
     "data": {
      "text/plain": [
       "[('Data', 'NNP'),\n",
       " ('is', 'VBZ'),\n",
       " ('the', 'DT'),\n",
       " ('new', 'JJ'),\n",
       " ('revoluation', 'NN'),\n",
       " ('in', 'IN'),\n",
       " ('the', 'DT'),\n",
       " ('world', 'NN'),\n",
       " ('100', 'CD'),\n",
       " (',', ','),\n",
       " ('in', 'IN'),\n",
       " ('a', 'DT'),\n",
       " ('day', 'NN'),\n",
       " ('one', 'CD'),\n",
       " ('individual', 'NN'),\n",
       " ('generates', 'VBZ'),\n",
       " ('terabytes', 'NNS'),\n",
       " ('of', 'IN'),\n",
       " ('data', 'NNS')]"
      ]
     },
     "execution_count": 134,
     "metadata": {},
     "output_type": "execute_result"
    }
   ],
   "source": [
    "# POS_TAG\n",
    "from nltk import pos_tag\n",
    "t= word_tokenize(text)\n",
    "pos_tag(t)"
   ]
  },
  {
   "cell_type": "code",
   "execution_count": 135,
   "metadata": {},
   "outputs": [
    {
     "name": "stdout",
     "output_type": "stream",
     "text": [
      "(S\n",
      "  (GPE Data/NNP)\n",
      "  is/VBZ\n",
      "  the/DT\n",
      "  new/JJ\n",
      "  revoluation/NN\n",
      "  in/IN\n",
      "  the/DT\n",
      "  world/NN\n",
      "  100/CD\n",
      "  ,/,\n",
      "  in/IN\n",
      "  a/DT\n",
      "  day/NN\n",
      "  one/CD\n",
      "  individual/NN\n",
      "  generates/VBZ\n",
      "  terabytes/NNS\n",
      "  of/IN\n",
      "  data/NNS)\n"
     ]
    }
   ],
   "source": [
    "#NER\n",
    "from nltk import ne_chunk\n",
    "t= word_tokenize(text)\n",
    "a = pos_tag(t)\n",
    "print(ne_chunk(a))"
   ]
  },
  {
   "cell_type": "code",
   "execution_count": 136,
   "metadata": {},
   "outputs": [],
   "source": [
    "# white space tokenize\n",
    "# punctuation tokenize"
   ]
  },
  {
   "cell_type": "code",
   "execution_count": 138,
   "metadata": {},
   "outputs": [
    {
     "name": "stdout",
     "output_type": "stream",
     "text": [
      "['The', 'price', 'of', 'burger', 'in', 'BurgerKing', 'is', 'Rs.36.']\n"
     ]
    }
   ],
   "source": [
    "from nltk.tokenize.regexp import WhitespaceTokenizer\n",
    "\n",
    "text = 'The price\\t of burger \\nin BurgerKing is Rs.36.\\n'\n",
    "token = WhitespaceTokenizer().tokenize(text)\n",
    "print(token)"
   ]
  },
  {
   "cell_type": "code",
   "execution_count": 139,
   "metadata": {},
   "outputs": [
    {
     "name": "stdout",
     "output_type": "stream",
     "text": [
      "['The', 'price', 'of', 'burger', 'in', 'BurgerKing', 'is', 'Rs', '.', '36', '.']\n"
     ]
    }
   ],
   "source": [
    "from nltk.tokenize.regexp import WordPunctTokenizer\n",
    "text = 'The price\\t of burger \\nin BurgerKing is Rs.36.\\n'\n",
    "token = WordPunctTokenizer().tokenize(text)\n",
    "print(token)"
   ]
  },
  {
   "cell_type": "code",
   "execution_count": 144,
   "metadata": {},
   "outputs": [
    {
     "name": "stdout",
     "output_type": "stream",
     "text": [
      "2\n"
     ]
    }
   ],
   "source": [
    "from nltk import FreqDist\n",
    "text = 'Data is the new revoluation in the world 100 , in a day one individual generates terabytes of data'\n",
    "freq = FreqDist(word_tokenize(text))\n",
    "print(freq['in'])"
   ]
  },
  {
   "cell_type": "code",
   "execution_count": 145,
   "metadata": {},
   "outputs": [
    {
     "data": {
      "image/png": "[encoded data removed]",
      "text/plain": [
       "<Figure size 432x288 with 1 Axes>"
      ]
     },
     "metadata": {
      "needs_background": "light"
     },
     "output_type": "display_data"
    },
    {
     "data": {
      "text/plain": [
       "<matplotlib.axes._subplots.AxesSubplot at 0x29edffb4670>"
      ]
     },
     "execution_count": 145,
     "metadata": {},
     "output_type": "execute_result"
    }
   ],
   "source": [
    "freq = FreqDist(word_tokenize(text))\n",
    "freq.plot()"
   ]
  },
  {
   "cell_type": "code",
   "execution_count": null,
   "metadata": {},
   "outputs": [],
   "source": []
  },
  {
   "cell_type": "code",
   "execution_count": null,
   "metadata": {},
   "outputs": [],
   "source": []
  }
 ],
 "metadata": {
  "kernelspec": {
   "display_name": "Python 3",
   "language": "python",
   "name": "python3"
  },
  "language_info": {
   "codemirror_mode": {
    "name": "ipython",
    "version": 3
   },
   "file_extension": ".py",
   "mimetype": "text/x-python",
   "name": "python",
   "nbconvert_exporter": "python",
   "pygments_lexer": "ipython3",
   "version": "3.8.3"
  }
 },
 "nbformat": 4,
 "nbformat_minor": 4
}
