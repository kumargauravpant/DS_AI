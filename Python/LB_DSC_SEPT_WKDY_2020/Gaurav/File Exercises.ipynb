{
 "cells": [
  {
   "cell_type": "code",
   "execution_count": 6,
   "metadata": {},
   "outputs": [
    {
     "name": "stdout",
     "output_type": "stream",
     "text": [
      "Chars = 484\n",
      "Words = 68\n",
      "Lines = 5\n"
     ]
    }
   ],
   "source": [
    "with open('myfile.txt', 'r') as f:\n",
    "    print(f'Chars = {len(f.read())}')\n",
    "    f.seek(0)\n",
    "    print(f'Words = {len(f.read().split())}')\n",
    "    f.seek(0)\n",
    "    print(f'Lines = {len(f.readlines())}')"
   ]
  },
  {
   "cell_type": "code",
   "execution_count": 7,
   "metadata": {},
   "outputs": [],
   "source": [
    "with open('python.png', 'rb') as f:\n",
    "    image = f.read();\n",
    "\n",
    "with open('new.png', 'wb') as n:\n",
    "    n.write(image)"
   ]
  }
 ],
 "metadata": {
  "kernelspec": {
   "display_name": "Python 3",
   "language": "python",
   "name": "python3"
  },
  "language_info": {
   "codemirror_mode": {
    "name": "ipython",
    "version": 3
   },
   "file_extension": ".py",
   "mimetype": "text/x-python",
   "name": "python",
   "nbconvert_exporter": "python",
   "pygments_lexer": "ipython3",
   "version": "3.8.3"
  }
 },
 "nbformat": 4,
 "nbformat_minor": 4
}
